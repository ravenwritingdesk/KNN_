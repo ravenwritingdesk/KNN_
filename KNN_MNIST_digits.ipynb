{
 "cells": [
  {
   "cell_type": "markdown",
   "metadata": {},
   "source": [
    "# KNN实验作业\n",
    "#####         Copyright © 2020 by Wangchuwen，2018202114. All rights reserved. "
   ]
  },
  {
   "cell_type": "markdown",
   "metadata": {},
   "source": [
    "## 一.装载数据集"
   ]
  },
  {
   "cell_type": "code",
   "execution_count": 1,
   "metadata": {},
   "outputs": [],
   "source": [
    "from __future__ import print_function\n",
    "from sklearn.model_selection import train_test_split\n",
    "from sklearn.neighbors import KNeighborsClassifier\n",
    "from sklearn.metrics import classification_report,confusion_matrix  \n",
    "from sklearn import datasets\n",
    "#from skimage import exposure\n",
    "import numpy as np\n",
    "import imutils\n",
    "import matplotlib.pyplot as plt  \n",
    "#import cv2"
   ]
  },
  {
   "cell_type": "code",
   "execution_count": 2,
   "metadata": {},
   "outputs": [
    {
     "name": "stdout",
     "output_type": "stream",
     "text": [
      "(1797, 64)\n",
      "(1797,)\n"
     ]
    }
   ],
   "source": [
    "# load the MNIST digits dataset\n",
    "mnist = datasets.load_digits()\n",
    " \n",
    "X = np.array(mnist.data)\n",
    "Y = mnist.target\n",
    " \n",
    "print(X.shape)\n",
    "print(Y.shape)"
   ]
  },
  {
   "cell_type": "markdown",
   "metadata": {},
   "source": [
    "## 二.切割train、test数据集，比例7：3开"
   ]
  },
  {
   "cell_type": "code",
   "execution_count": 3,
   "metadata": {},
   "outputs": [],
   "source": [
    "X_train, X_test, Y_train, Y_test = train_test_split(X, Y, test_size=0.30)  "
   ]
  },
  {
   "cell_type": "markdown",
   "metadata": {},
   "source": [
    "\n",
    "## 三.设定一个k比如7，训练KNN\n",
    "显示train/test数据集上的混淆矩阵          PreYision/recall/f1 measure\n"
   ]
  },
  {
   "cell_type": "code",
   "execution_count": 4,
   "metadata": {},
   "outputs": [
    {
     "name": "stdout",
     "output_type": "stream",
     "text": [
      "[[57  0  0  0  1  0  0  0  0  0]\n",
      " [ 0 61  0  0  0  0  0  0  0  0]\n",
      " [ 0  0 50  0  0  0  0  0  1  0]\n",
      " [ 0  0  0 60  0  1  0  1  1  0]\n",
      " [ 0  0  0  0 45  0  0  1  1  0]\n",
      " [ 0  0  0  0  0 43  0  0  0  1]\n",
      " [ 0  0  0  0  0  0 59  0  0  0]\n",
      " [ 0  0  0  0  0  0  0 48  0  0]\n",
      " [ 0  2  0  1  0  0  0  0 47  0]\n",
      " [ 0  0  0  0  0  0  0  0  1 58]]\n",
      "              precision    recall  f1-score   support\n",
      "\n",
      "           0       1.00      0.98      0.99        58\n",
      "           1       0.97      1.00      0.98        61\n",
      "           2       1.00      0.98      0.99        51\n",
      "           3       0.98      0.95      0.97        63\n",
      "           4       0.98      0.96      0.97        47\n",
      "           5       0.98      0.98      0.98        44\n",
      "           6       1.00      1.00      1.00        59\n",
      "           7       0.96      1.00      0.98        48\n",
      "           8       0.92      0.94      0.93        50\n",
      "           9       0.98      0.98      0.98        59\n",
      "\n",
      "    accuracy                           0.98       540\n",
      "   macro avg       0.98      0.98      0.98       540\n",
      "weighted avg       0.98      0.98      0.98       540\n",
      "\n",
      "[[120   0   0   0   0   0   0   0   0   0]\n",
      " [  0 121   0   0   0   0   0   0   0   0]\n",
      " [  0   0 125   0   0   0   0   1   0   0]\n",
      " [  0   0   0 119   0   0   0   1   0   0]\n",
      " [  0   1   0   0 133   0   0   0   0   0]\n",
      " [  0   0   0   0   0 136   1   0   0   1]\n",
      " [  0   1   0   0   0   0 121   0   0   0]\n",
      " [  0   0   0   0   0   0   0 131   0   0]\n",
      " [  0   3   0   1   0   0   0   0 120   0]\n",
      " [  0   1   0   1   0   2   0   0   0 117]]\n",
      "              precision    recall  f1-score   support\n",
      "\n",
      "           0       1.00      1.00      1.00       120\n",
      "           1       0.95      1.00      0.98       121\n",
      "           2       1.00      0.99      1.00       126\n",
      "           3       0.98      0.99      0.99       120\n",
      "           4       1.00      0.99      1.00       134\n",
      "           5       0.99      0.99      0.99       138\n",
      "           6       0.99      0.99      0.99       122\n",
      "           7       0.98      1.00      0.99       131\n",
      "           8       1.00      0.97      0.98       124\n",
      "           9       0.99      0.97      0.98       121\n",
      "\n",
      "    accuracy                           0.99      1257\n",
      "   macro avg       0.99      0.99      0.99      1257\n",
      "weighted avg       0.99      0.99      0.99      1257\n",
      "\n"
     ]
    }
   ],
   "source": [
    "classifier = KNeighborsClassifier(n_neighbors=7)  \n",
    "classifier.fit(X_train, Y_train)\n",
    "Y_pred1 = classifier.predict(X_test)\n",
    "Y_pred2 = classifier.predict(X_train)\n",
    "print(confusion_matrix(Y_test, Y_pred1))  \n",
    "print(classification_report(Y_test, Y_pred1))\n",
    "print(confusion_matrix(Y_train, Y_pred2))  \n",
    "print(classification_report(Y_train, Y_pred2))  "
   ]
  },
  {
   "cell_type": "markdown",
   "metadata": {},
   "source": [
    "\n",
    "## 四.从3-20设定K，计算KNN在test集上的误差\n",
    "   绘制一个折线图，横坐标为k，纵坐标为test上的误差率"
   ]
  },
  {
   "cell_type": "code",
   "execution_count": 5,
   "metadata": {},
   "outputs": [],
   "source": [
    "error = []\n",
    "\n",
    "# Calculating error for K values between 1 and 40\n",
    "for i in range(3, 21):  \n",
    "    knn = KNeighborsClassifier(n_neighbors=i)\n",
    "    knn.fit(X_train, Y_train)\n",
    "    pred_i = knn.predict(X_test)\n",
    "    error.append(np.mean(pred_i != Y_test))\n",
    "#error"
   ]
  },
  {
   "cell_type": "code",
   "execution_count": 6,
   "metadata": {},
   "outputs": [
    {
     "data": {
      "image/png": "[encoded data removed]",
      "text/plain": [
       "<Figure size 864x432 with 1 Axes>"
      ]
     },
     "metadata": {
      "needs_background": "light"
     },
     "output_type": "display_data"
    }
   ],
   "source": [
    "plt.figure(figsize=(12, 6))  \n",
    "plt.plot(range(3, 21), error, color='red', linestyle='dashed', marker='o',  \n",
    "         markerfacecolor='blue', markersize=10)\n",
    "plt.title('Error Rate K Value')  \n",
    "plt.xlabel('K Value')  \n",
    "plt.ylabel('Mean Error')  \n",
    "plt.show()"
   ]
  }
 ],
 "metadata": {
  "kernelspec": {
   "display_name": "Python 3",
   "language": "python",
   "name": "python3"
  },
  "language_info": {
   "codemirror_mode": {
    "name": "ipython",
    "version": 3
   },
   "file_extension": ".py",
   "mimetype": "text/x-python",
   "name": "python",
   "nbconvert_exporter": "python",
   "pygments_lexer": "ipython3",
   "version": "3.7.4"
  }
 },
 "nbformat": 4,
 "nbformat_minor": 4
}
